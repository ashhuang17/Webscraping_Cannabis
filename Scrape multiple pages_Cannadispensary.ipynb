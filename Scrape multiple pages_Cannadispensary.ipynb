{
 "cells": [
  {
   "cell_type": "code",
   "execution_count": 1,
   "metadata": {},
   "outputs": [],
   "source": [
    "import pandas as pd\n",
    "import numpy as np\n",
    "import re\n",
    "from functools import reduce\n",
    "from urllib.request import urlopen\n",
    "from bs4 import BeautifulSoup\n",
    "from urllib.request import urlopen, Request\n",
    "import requests\n",
    "from requests import get\n",
    "from time import sleep\n",
    "import csv\n",
    "from random import randint"
   ]
  },
  {
   "cell_type": "markdown",
   "metadata": {},
   "source": [
    "### For single page"
   ]
  },
  {
   "cell_type": "code",
   "execution_count": 2,
   "metadata": {},
   "outputs": [],
   "source": [
    "url = \"https://www.medicalmarijuana.com/directory/categories/marijuana-dispensaries?p=106&category=5&zoom=15&is_mile=0&directory_radius=0&view=list&sort=newest\"\n",
    "\n",
    "headers = {'user-agent': 'Mozilla/5.0 (Windows NT 10.0; Win64; x64) AppleWebKit/537.36 (KHTML, like Gecko) Chrome/55.0.2883.87 Safari/537.36'}\n",
    "\n",
    "results = requests.get(url, headers=headers)\n",
    "\n",
    "soup = BeautifulSoup(results.text, \"html.parser\")\n",
    "\n",
    "#print(soup.prettify())"
   ]
  },
  {
   "cell_type": "markdown",
   "metadata": {},
   "source": [
    "### For multiple pages"
   ]
  },
  {
   "cell_type": "code",
   "execution_count": 16,
   "metadata": {},
   "outputs": [],
   "source": [
    "pages = np.arange(1, 109)\n",
    "\n",
    "titles = []\n",
    "category = []\n",
    "emails = []\n",
    "numb = []\n",
    "websites = []\n",
    "location = []\n",
    "description = []\n",
    "\n",
    "for page in pages: \n",
    "    page = requests.get(\"https://www.medicalmarijuana.com/directory/categories/marijuana-dispensaries?p=\"+ str(page) + \"&category=5&zoom=15&is_mile=0&directory_radius=0&view=list&sort=newest\", headers=headers)\n",
    "    soup = BeautifulSoup(page.text, 'html.parser')\n",
    "    \n",
    "    #for element in soup.findAll(attrs={'class': 'sabai-directory-contact-email'}):\n",
    "        #email = element.find('a')\n",
    "        #emails.append(email.text)\n",
    "    \n",
    "    item_list = soup.findAll('div', attrs={'class': 'sabai-col-xs-9 sabai-directory-main'})\n",
    "    for container in item_list:\n",
    "        #company\n",
    "        name = container.a.text\n",
    "        if name is None:\n",
    "            titles.append('None')\n",
    "        else:\n",
    "            titles.append(name)\n",
    "\n",
    "        #cateogories\n",
    "        cat = container.find('div', class_='sabai-directory-category').text\n",
    "        if cat is None:\n",
    "            category.append('None')\n",
    "        else:\n",
    "            category.append(cat)\n",
    "    \n",
    "        #address\n",
    "        add = container.find('div', class_='sabai-directory-location')\n",
    "        address = add.find('span').text\n",
    "        if add is None:\n",
    "            location.append('None')\n",
    "        else:\n",
    "            location.append(address)\n",
    "    \n",
    "        #description\n",
    "        des = container.find('div', class_='sabai-directory-body')\n",
    "        if des is None:\n",
    "            description.append('None')\n",
    "        else:\n",
    "            description.append(des.text.strip())\n",
    "            \n",
    "        num = container.find('span', class_='sabai-visible-xs-inline')\n",
    "        if num is None:\n",
    "            numb.append('None')\n",
    "        else:\n",
    "            numb.append(num.text.strip())\n",
    "            \n",
    "        email = container.find('div', class_='sabai-directory-contact-email')\n",
    "        if email is None:\n",
    "            emails.append('None')\n",
    "        else:\n",
    "            emails.append(email.text.strip())\n",
    "            \n",
    "        website = container.find('div', class_='sabai-directory-contact-website')\n",
    "        if website is None:\n",
    "            websites.append('None')\n",
    "        else:\n",
    "            websites.append(website.text.strip())"
   ]
  },
  {
   "cell_type": "code",
   "execution_count": null,
   "metadata": {},
   "outputs": [],
   "source": []
  },
  {
   "cell_type": "code",
   "execution_count": 24,
   "metadata": {},
   "outputs": [
    {
     "data": {
      "text/html": [
       "<div>\n",
       "<style scoped>\n",
       "    .dataframe tbody tr th:only-of-type {\n",
       "        vertical-align: middle;\n",
       "    }\n",
       "\n",
       "    .dataframe tbody tr th {\n",
       "        vertical-align: top;\n",
       "    }\n",
       "\n",
       "    .dataframe thead th {\n",
       "        text-align: right;\n",
       "    }\n",
       "</style>\n",
       "<table border=\"1\" class=\"dataframe\">\n",
       "  <thead>\n",
       "    <tr style=\"text-align: right;\">\n",
       "      <th></th>\n",
       "      <th>Company</th>\n",
       "      <th>Website</th>\n",
       "      <th>Description</th>\n",
       "      <th>Address</th>\n",
       "      <th>Company Phone</th>\n",
       "      <th>Email</th>\n",
       "      <th>Industry Category</th>\n",
       "    </tr>\n",
       "  </thead>\n",
       "  <tbody>\n",
       "    <tr>\n",
       "      <th>0</th>\n",
       "      <td>Serra Dispensary Belmont</td>\n",
       "      <td>https://shopserra.com/location/southeast-portl...</td>\n",
       "      <td>None</td>\n",
       "      <td>2519 SE Belmont St, Portland, OR 97214, Unite...</td>\n",
       "      <td>971-544-7055</td>\n",
       "      <td>info@shopserra.com</td>\n",
       "      <td>\\n Marijuana Dispensaries</td>\n",
       "    </tr>\n",
       "    <tr>\n",
       "      <th>1</th>\n",
       "      <td>Medical Cannabis for patients</td>\n",
       "      <td>http://www.420medications.net</td>\n",
       "      <td>None</td>\n",
       "      <td>Sacramento, CA, United States</td>\n",
       "      <td>949-334-7402</td>\n",
       "      <td>info@420medications.net</td>\n",
       "      <td>\\n Marijuana Dispensaries</td>\n",
       "    </tr>\n",
       "    <tr>\n",
       "      <th>2</th>\n",
       "      <td>Ohana Farms</td>\n",
       "      <td>http://NULL</td>\n",
       "      <td>* Safe and discreet medicine delivery service ...</td>\n",
       "      <td>301 1st Bainbridge Island Washington 98110 Ki...</td>\n",
       "      <td>206-902-6326</td>\n",
       "      <td>ohanainstitute@gmail.com</td>\n",
       "      <td>\\n Marijuana Dispensaries</td>\n",
       "    </tr>\n",
       "    <tr>\n",
       "      <th>3</th>\n",
       "      <td>The Speezy</td>\n",
       "      <td>http://NULL</td>\n",
       "      <td>All American Healing Group is a medical cannab...</td>\n",
       "      <td>6405 s Vermont Los Angeles California 90044 L...</td>\n",
       "      <td>2139732420</td>\n",
       "      <td>thaspeezy@gmail.com</td>\n",
       "      <td>\\n Marijuana Dispensaries</td>\n",
       "    </tr>\n",
       "    <tr>\n",
       "      <th>4</th>\n",
       "      <td>Seattle Green Care Delivery</td>\n",
       "      <td>http://www.SeattleGreenCare.com</td>\n",
       "      <td>Only the finest quality MMJ – grown indoors by...</td>\n",
       "      <td>Haller Lake Seattle Washington 98125 King</td>\n",
       "      <td>206-501-4063</td>\n",
       "      <td>Info@SeattleGreenCare.com</td>\n",
       "      <td>\\n Marijuana Dispensaries</td>\n",
       "    </tr>\n",
       "  </tbody>\n",
       "</table>\n",
       "</div>"
      ],
      "text/plain": [
       "                         Company  \\\n",
       "0       Serra Dispensary Belmont   \n",
       "1  Medical Cannabis for patients   \n",
       "2                    Ohana Farms   \n",
       "3                     The Speezy   \n",
       "4    Seattle Green Care Delivery   \n",
       "\n",
       "                                             Website  \\\n",
       "0  https://shopserra.com/location/southeast-portl...   \n",
       "1                      http://www.420medications.net   \n",
       "2                                        http://NULL   \n",
       "3                                        http://NULL   \n",
       "4                    http://www.SeattleGreenCare.com   \n",
       "\n",
       "                                         Description  \\\n",
       "0                                               None   \n",
       "1                                               None   \n",
       "2  * Safe and discreet medicine delivery service ...   \n",
       "3  All American Healing Group is a medical cannab...   \n",
       "4  Only the finest quality MMJ – grown indoors by...   \n",
       "\n",
       "                                             Address Company Phone  \\\n",
       "0   2519 SE Belmont St, Portland, OR 97214, Unite...  971-544-7055   \n",
       "1                      Sacramento, CA, United States  949-334-7402   \n",
       "2   301 1st Bainbridge Island Washington 98110 Ki...  206-902-6326   \n",
       "3   6405 s Vermont Los Angeles California 90044 L...    2139732420   \n",
       "4          Haller Lake Seattle Washington 98125 King  206-501-4063   \n",
       "\n",
       "                       Email           Industry Category  \n",
       "0         info@shopserra.com  \\n Marijuana Dispensaries   \n",
       "1    info@420medications.net  \\n Marijuana Dispensaries   \n",
       "2   ohanainstitute@gmail.com  \\n Marijuana Dispensaries   \n",
       "3        thaspeezy@gmail.com  \\n Marijuana Dispensaries   \n",
       "4  Info@SeattleGreenCare.com  \\n Marijuana Dispensaries   "
      ]
     },
     "execution_count": 24,
     "metadata": {},
     "output_type": "execute_result"
    }
   ],
   "source": [
    "tab=pd.DataFrame()\n",
    "tab['Company']=titles\n",
    "tab['Website']=websites\n",
    "tab['Description']=description\n",
    "tab['Address']=location\n",
    "tab['Company Phone']=numb\n",
    "tab['Email']=emails\n",
    "tab['Industry Category']=category\n",
    "tab.head()"
   ]
  },
  {
   "cell_type": "code",
   "execution_count": null,
   "metadata": {},
   "outputs": [],
   "source": []
  },
  {
   "cell_type": "code",
   "execution_count": null,
   "metadata": {},
   "outputs": [],
   "source": []
  },
  {
   "cell_type": "code",
   "execution_count": null,
   "metadata": {},
   "outputs": [],
   "source": []
  },
  {
   "cell_type": "code",
   "execution_count": null,
   "metadata": {
    "scrolled": true
   },
   "outputs": [],
   "source": []
  },
  {
   "cell_type": "code",
   "execution_count": null,
   "metadata": {},
   "outputs": [],
   "source": []
  },
  {
   "cell_type": "code",
   "execution_count": null,
   "metadata": {},
   "outputs": [],
   "source": []
  },
  {
   "cell_type": "code",
   "execution_count": null,
   "metadata": {},
   "outputs": [],
   "source": []
  },
  {
   "cell_type": "code",
   "execution_count": null,
   "metadata": {},
   "outputs": [],
   "source": []
  },
  {
   "cell_type": "code",
   "execution_count": null,
   "metadata": {},
   "outputs": [],
   "source": [
    "\n",
    "\n"
   ]
  },
  {
   "cell_type": "code",
   "execution_count": null,
   "metadata": {
    "scrolled": true
   },
   "outputs": [],
   "source": []
  },
  {
   "cell_type": "code",
   "execution_count": null,
   "metadata": {},
   "outputs": [],
   "source": []
  },
  {
   "cell_type": "code",
   "execution_count": null,
   "metadata": {},
   "outputs": [],
   "source": []
  },
  {
   "cell_type": "code",
   "execution_count": null,
   "metadata": {
    "scrolled": true
   },
   "outputs": [],
   "source": []
  },
  {
   "cell_type": "code",
   "execution_count": null,
   "metadata": {
    "scrolled": true
   },
   "outputs": [],
   "source": []
  },
  {
   "cell_type": "code",
   "execution_count": null,
   "metadata": {
    "scrolled": true
   },
   "outputs": [],
   "source": []
  },
  {
   "cell_type": "code",
   "execution_count": null,
   "metadata": {},
   "outputs": [],
   "source": []
  },
  {
   "cell_type": "code",
   "execution_count": null,
   "metadata": {},
   "outputs": [],
   "source": []
  },
  {
   "cell_type": "code",
   "execution_count": null,
   "metadata": {
    "scrolled": false
   },
   "outputs": [],
   "source": []
  },
  {
   "cell_type": "code",
   "execution_count": null,
   "metadata": {
    "scrolled": true
   },
   "outputs": [],
   "source": []
  },
  {
   "cell_type": "code",
   "execution_count": null,
   "metadata": {},
   "outputs": [],
   "source": [
    "\n"
   ]
  },
  {
   "cell_type": "code",
   "execution_count": null,
   "metadata": {},
   "outputs": [],
   "source": []
  },
  {
   "cell_type": "code",
   "execution_count": null,
   "metadata": {},
   "outputs": [],
   "source": []
  },
  {
   "cell_type": "code",
   "execution_count": null,
   "metadata": {},
   "outputs": [],
   "source": []
  },
  {
   "cell_type": "code",
   "execution_count": null,
   "metadata": {},
   "outputs": [],
   "source": []
  },
  {
   "cell_type": "code",
   "execution_count": null,
   "metadata": {},
   "outputs": [],
   "source": []
  },
  {
   "cell_type": "code",
   "execution_count": null,
   "metadata": {},
   "outputs": [],
   "source": []
  },
  {
   "cell_type": "code",
   "execution_count": null,
   "metadata": {},
   "outputs": [],
   "source": []
  },
  {
   "cell_type": "code",
   "execution_count": null,
   "metadata": {},
   "outputs": [],
   "source": []
  },
  {
   "cell_type": "code",
   "execution_count": null,
   "metadata": {},
   "outputs": [],
   "source": []
  },
  {
   "cell_type": "code",
   "execution_count": null,
   "metadata": {},
   "outputs": [],
   "source": []
  },
  {
   "cell_type": "code",
   "execution_count": null,
   "metadata": {},
   "outputs": [],
   "source": []
  },
  {
   "cell_type": "code",
   "execution_count": null,
   "metadata": {},
   "outputs": [],
   "source": []
  },
  {
   "cell_type": "code",
   "execution_count": null,
   "metadata": {},
   "outputs": [],
   "source": []
  }
 ],
 "metadata": {
  "kernelspec": {
   "display_name": "Python 3",
   "language": "python",
   "name": "python3"
  },
  "language_info": {
   "codemirror_mode": {
    "name": "ipython",
    "version": 3
   },
   "file_extension": ".py",
   "mimetype": "text/x-python",
   "name": "python",
   "nbconvert_exporter": "python",
   "pygments_lexer": "ipython3",
   "version": "3.7.3"
  }
 },
 "nbformat": 4,
 "nbformat_minor": 2
}
